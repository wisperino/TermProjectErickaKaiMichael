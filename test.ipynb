{
 "cells": [
  {
   "cell_type": "code",
   "execution_count": 1,
   "metadata": {
    "collapsed": false
   },
   "outputs": [
    {
     "ename": "SyntaxError",
     "evalue": "invalid syntax (<ipython-input-1-fd0404b626c6>, line 5)",
     "output_type": "error",
     "traceback": [
      "\u001b[0;36m  File \u001b[0;32m\"<ipython-input-1-fd0404b626c6>\"\u001b[0;36m, line \u001b[0;32m5\u001b[0m\n\u001b[0;31m    ----\u001b[0m\n\u001b[0m        ^\u001b[0m\n\u001b[0;31mSyntaxError\u001b[0m\u001b[0;31m:\u001b[0m invalid syntax\n"
     ]
    }
   ],
   "source": [
    "\n",
    "# CS0155 Term Project - Spring 2017\n",
    "\n",
    "## Section 1 -- Team Membership:\n",
    "----\n",
    "* **Leader (submits assignment):** Kekaimalu Chin\n",
    "* **Email**: kgc7@pitt.edu\n",
    "* **PeopleSoftID**: 3873115\n",
    "----\n",
    "* **Team Member #1 Erika Carpio \n",
    "* **Email**: erc72@pitt.edu  \n",
    "* **PeopleSoftID**: 3910236\n",
    "----\n",
    "* **Team Member #2 Michael Rundell  \n",
    "* **Email**: mdr48@pitt.edu  \n",
    "* **PeopleSoftID**: 3799925   \n",
    "----\n",
    "By submitting this project we declare that\n",
    "* the work in the project was done equally among all team members,  \n",
    "* we did not share our work with others, and   \n",
    "* we did not receive material from others."
   ]
  },
  {
   "cell_type": "code",
   "execution_count": null,
   "metadata": {
    "collapsed": false
   },
   "outputs": [],
   "source": [
    "#PLEASE RUN THIS SECTION FIRST BECAUSE IT SETS UP THE CONNECTION AND THE IMPORTS FOR VISUALIZATIONS\n",
    "\n",
    "\n",
    "# Import SQLite Python module\n",
    "import sqlite3 as lite\n",
    "\n",
    "# Connect to real-estate.db sqlite database\n",
    "con = lite.connect('real-estate.db')\n",
    "\n",
    "# Establish cursor with database\n",
    "cur = con.cursor()\n",
    "\n",
    "\n",
    "#all the imports used for the visualization: \n",
    "import pandas as pd\n",
    "import numpy as np\n",
    "import matplotlib.pyplot as plt\n",
    "%matplotlib inline\n",
    "import pandas.io.sql as psql\n",
    "\n",
    "\n",
    "# Sample query \n",
    "myq = \"\"\"\n",
    "select count(*) as co \n",
    "from real_estate\n",
    "\"\"\"\n",
    "cur.execute(myq)\n",
    "cur.fetchall()\n"
   ]
  },
  {
   "cell_type": "code",
   "execution_count": null,
   "metadata": {
    "collapsed": false
   },
   "outputs": [],
   "source": [
    "# Verify View used in Q8 is here\n",
    "myq = \"\"\"\n",
    "select *\n",
    "from most_expensive\n",
    "\"\"\"\n",
    "cur.execute(myq)\n",
    "cur.fetchall()"
   ]
  },
  {
   "cell_type": "markdown",
   "metadata": {},
   "source": [
    "## Section 2 -- Queries"
   ]
  },
  {
   "cell_type": "code",
   "execution_count": null,
   "metadata": {
    "collapsed": true
   },
   "outputs": [],
   "source": [
    "# Q1\n",
    "q1 = \"\"\"\n",
    "select propertyzip, max(SALEPRICE) \n",
    "from 'real_estate'\n",
    "group by propertyzip\n",
    "order by saleprice  DESC\n",
    "\"\"\"\n",
    "cur.execute(q1)\n",
    "cur.fetchall()"
   ]
  },
  {
   "cell_type": "code",
   "execution_count": null,
   "metadata": {
    "collapsed": true
   },
   "outputs": [],
   "source": [
    "# Q2\n",
    "highestView= \"\"\"\n",
    "CREATE VIEW highestView AS\n",
    "select propertyzip as zip, max(SALEPRICE) as max\n",
    "from 'real_estate'\n",
    "group by propertyzip\n",
    "order by saleprice DESC\n",
    "\"\"\"\n",
    "\n",
    "q2 = \"\"\"\n",
    "SELECT real_estate.propertyzip, PROPERTYADDRESS, PROPERTYCITY, SALEPRICE\n",
    "FROM\n",
    "     'real_estate'\n",
    "     INNER JOIN highestView ON real_estate.propertyzip = highestView.zip AND real_estate.saleprice = highestView.max\n",
    "group by propertyaddress\n",
    "order by real_estate.propertyzip ASC\n",
    "\n",
    "\"\"\"\n",
    "dropQuery =\"\"\"\n",
    "DROP VIEW if exists highestView\n",
    "\"\"\"\n",
    "#used dropquery to make sure the view wasnt already created every time I run it. \n",
    "cur.execute(dropQuery)\n",
    "cur.execute(highestView)\n",
    "cur.execute(q2)\n",
    "cur.fetchall()"
   ]
  },
  {
   "cell_type": "code",
   "execution_count": null,
   "metadata": {
    "collapsed": true
   },
   "outputs": [],
   "source": [
    "# Q3\n",
    "q3 = \"\"\"\n",
    "select PARID, propertyzip, RECORDDATE, SALEDATE\n",
    "from 'real_estate'\n",
    "WHERE NOT RECORDDATE = \"None\" AND NOT SALEDATE = \"None\" \n",
    "AND CAST(SUBSTR(RECORDDATE,7,7) AS INT) >= (CAST(SUBSTR(SALEDATE,7,7) AS INT) + 2)\n",
    "OR CAST(SUBSTR(RECORDDATE,7,7) AS INT) <= (CAST(SUBSTR(SALEDATE,7,7) AS INT) - 2)\n",
    "\"\"\"\n",
    "cur.execute(q3)\n",
    "cur.fetchall()"
   ]
  },
  {
   "cell_type": "code",
   "execution_count": null,
   "metadata": {
    "collapsed": true
   },
   "outputs": [],
   "source": [
    "# Q4\n",
    "date_errors = \"\"\"\n",
    "create view date_errors AS\n",
    "select PARID, propertyzip, RECORDDATE, SALEDATE\n",
    "from 'real_estate'\n",
    "WHERE NOT RECORDDATE = \"None\" AND NOT SALEDATE = \"None\" \n",
    "AND CAST(SUBSTR(RECORDDATE,7,7) AS INT) >= (CAST(SUBSTR(SALEDATE,7,7) AS INT) + 2)\n",
    "OR CAST(SUBSTR(RECORDDATE,7,7) AS INT) <= (CAST(SUBSTR(SALEDATE,7,7) AS INT) - 2)\n",
    "\"\"\"\n",
    "\n",
    "q4 = \"\"\"\n",
    "select propertyzip, count(*)\n",
    "from date_errors\n",
    "group by propertyzip\n",
    "order by count(*) DESC\n",
    "\"\"\"\n",
    "dropQuery= \"\"\"\n",
    "DROP VIEW if exists date_errors\n",
    "\"\"\"\n",
    "\n",
    "\n",
    "#I used the drop query to drop the view every time I ran it, coulda just not run the date_errors query but i wanted to test that mostly. \n",
    "cur.execute(dropQuery)\n",
    "cur.execute(date_errors)\n",
    "cur.execute(q4)\n",
    "cur.fetchall()"
   ]
  },
  {
   "cell_type": "code",
   "execution_count": null,
   "metadata": {
    "collapsed": true
   },
   "outputs": [],
   "source": [
    "# Q5\n",
    "q5 = \"\"\"\n",
    "SELECT SUBSTR(SALEDATE,7,7) as date, count(SUBSTR(SALEDATE,7,7)) as count\n",
    "FROM 'real_estate'\n",
    "WHERE SCHOOLDESC = \"City Of Pittsburgh\" \n",
    "group by SUBSTR(SALEDATE,7,7)\n",
    "order by SUBSTR(SALEDATE,7,7) ASC\n",
    "\"\"\"\n",
    "cur.execute(q5)\n",
    "cur.fetchall()"
   ]
  },
  {
   "cell_type": "code",
   "execution_count": null,
   "metadata": {
    "collapsed": true
   },
   "outputs": [],
   "source": [
    "# Q6\n",
    "q6 = \"\"\"\n",
    "select date, school, count(*)\n",
    "from q5view\n",
    "group by date\n",
    "order by count(*) DESC\n",
    "\"\"\"\n",
    "\n",
    "q5view = \"\"\"\n",
    "create view q5view AS\n",
    "SELECT SUBSTR(SALEDATE,7,7) as date, SCHOOLDESC as school\n",
    "FROM 'real_estate'\n",
    "\"\"\"\n",
    "dropQuery= \"\"\"\n",
    "DROP VIEW if exists q5view\n",
    "\"\"\"\n",
    "#used dropQuery to make sure the view doesn't already exist\n",
    "cur.execute(dropQuery)\n",
    "cur.execute(q5view)\n",
    "cur.execute(q6)\n",
    "cur.fetchall()"
   ]
  },
  {
   "cell_type": "code",
   "execution_count": null,
   "metadata": {
    "collapsed": true
   },
   "outputs": [],
   "source": [
    "# Q7\n",
    "q7 = \"\"\"\n",
    " select SCHOOLDESC as school,AVG(FIREPLACES) as avgFirePlaces\n",
    " from real_estate \n",
    " group by SCHOOLDESC \n",
    " order by AVG(FIREPLACES) DESC \n",
    " LIMIT 10;\n",
    "\"\"\"\n",
    "\n",
    "cur.execute(q7)\n",
    "cur.fetchall()"
   ]
  },
  {
   "cell_type": "code",
   "execution_count": null,
   "metadata": {
    "collapsed": true
   },
   "outputs": [],
   "source": [
    "# Q8\n",
    "q8 = \"\"\"\n",
    "SELECT count(fireDESC)\n",
    "FROM avgfireplaces\n",
    "INNER JOIN most_expensive ON most_expensive.expensiveDESC = avgfireplaces.fireDESC\n",
    "\"\"\"\n",
    "q7view = \"\"\"\n",
    "create view avgfireplaces as\n",
    " select SCHOOLDESC AS fireDESC, AVG(FIREPLACES) \n",
    " from real_estate \n",
    " group by SCHOOLDESC \n",
    " order by AVG(FIREPLACES) DESC \n",
    " LIMIT 10;\n",
    "\n",
    "\"\"\"\n",
    "q8givenView = \"\"\"\n",
    "create view most_expensive as\n",
    "select SCHOOLDESC as expensiveDESC, avg(saleprice) as aprice\n",
    "from real_estate\n",
    "group by SCHOOLDESC\n",
    "order by aprice DESC\n",
    "LIMIT 10;\n",
    "\"\"\"\n",
    "dropQuery= \"\"\"\n",
    "DROP VIEW if exists most_expensive\n",
    "\"\"\"\n",
    "dropQuery2= \"\"\"\n",
    "DROP VIEW if exists avgfireplaces\n",
    "\"\"\"\n",
    "\n",
    "#again used the dropQuery and dropQuery2 to make sure the view doesnt alreayd exist\n",
    "cur.execute(dropQuery)\n",
    "cur.execute(dropQuery2)\n",
    "cur.execute(q7view)\n",
    "cur.execute(q8givenView)\n",
    "cur.execute(q8)\n",
    "cur.fetchall()"
   ]
  },
  {
   "cell_type": "code",
   "execution_count": null,
   "metadata": {
    "collapsed": true
   },
   "outputs": [],
   "source": [
    "# Q9\n",
    "\n",
    "q9 = \"\"\"\n",
    "select schooldesc, avg(finishedlivingarea)\n",
    "from real_estate\n",
    "where NOT FINISHEDLIVINGAREA = \"null\" \n",
    "group by schooldesc\n",
    "order by avg(finishedlivingarea) DESC\n",
    "limit 10\n",
    "\"\"\"\n",
    "\n",
    "cur.execute(q9)\n",
    "cur.fetchall()"
   ]
  },
  {
   "cell_type": "code",
   "execution_count": null,
   "metadata": {
    "collapsed": true
   },
   "outputs": [],
   "source": [
    "# Q10\n",
    "q10 = \"\"\"\n",
    "select schooldesc, (avg(SALEPRICE)/avg(finishedlivingarea)) as averagepricepersqft\n",
    "from real_estate\n",
    "where NOT FINISHEDLIVINGAREA = \"null\" AND not SALEPRICE = \"null\"\n",
    "group by schooldesc\n",
    "order by averagepricepersqft DESC\n",
    "limit 10\n",
    "\"\"\"\n",
    "cur.execute(q10)\n",
    "cur.fetchall()"
   ]
  },
  {
   "cell_type": "markdown",
   "metadata": {},
   "source": [
    "## Section 3 -- Visualization"
   ]
  },
  {
   "cell_type": "code",
   "execution_count": null,
   "metadata": {
    "collapsed": true
   },
   "outputs": [],
   "source": [
    "# Q5 visualization\n",
    "\n",
    "df = pd.read_sql_query(q5,con)\n",
    "#print (df) -used for testing, can unselect if you wanna see the data itself.\n",
    "\n",
    "df.plot(x = \"date\", y = \"count\")\n"
   ]
  },
  {
   "cell_type": "code",
   "execution_count": null,
   "metadata": {
    "collapsed": true
   },
   "outputs": [],
   "source": [
    "# Q7 visualization\n",
    "cur.execute(q7)\n",
    "\n",
    "\n",
    "df = pd.read_sql_query(q7,con)\n",
    "\n",
    "df.plot.bar(x=\"school\",y=\"avgFirePlaces\")\n",
    "\n",
    "df.plot()\n",
    "# create a plot using q7res here"
   ]
  }
 ],
 "metadata": {
  "anaconda-cloud": {},
  "kernelspec": {
   "display_name": "Python 3",
   "language": "python",
   "name": "python3"
  },
  "language_info": {
   "codemirror_mode": {
    "name": "ipython",
    "version": 3
   },
   "file_extension": ".py",
   "mimetype": "text/x-python",
   "name": "python",
   "nbconvert_exporter": "python",
   "pygments_lexer": "ipython3",
   "version": "3.6.0"
  }
 },
 "nbformat": 4,
 "nbformat_minor": 1
}
