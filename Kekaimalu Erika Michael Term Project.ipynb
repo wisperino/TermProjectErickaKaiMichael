{
 "cells": [
  {
   "cell_type": "markdown",
   "metadata": {},
   "source": [
    "# CS0155 Term Project - Spring 2017\n",
    "\n",
    "## Section 1 -- Team Membership:\n",
    "----\n",
    "* **Leader (submits assignment):** put_name_here \n",
    "* **Email**: put_email_here  \n",
    "* **PeopleSoftID**: put_peoplesoft_ID_here\n",
    "----\n",
    "* **Team Member #1:** put_name_here   \n",
    "* **Email**: put_email_here  \n",
    "* **PeopleSoftID**: put_peoplesoft_ID_here\n",
    "----\n",
    "* **Team Member #2 (optional):** put_name_here   \n",
    "* **Email**: put_email_here  \n",
    "* **PeopleSoftID**: put_peoplesoft_ID_here   \n",
    "----\n",
    "By submitting this project we declare that\n",
    "* the work in the project was done equally among all team members,  \n",
    "* we did not share our work with others, and   \n",
    "* we did not receive material from others."
   ]
  },
  {
   "cell_type": "code",
   "execution_count": null,
   "metadata": {
    "collapsed": false
   },
   "outputs": [],
   "source": [
    "# Import SQLite Python module\n",
    "import sqlite3 as lite\n",
    "\n",
    "# Connect to real-estate.db sqlite database\n",
    "con = lite.connect('real-estate.db')\n",
    "\n",
    "# Establish cursor with database\n",
    "cur = con.cursor()\n",
    "\n",
    "# Sample query \n",
    "myq = \"\"\"\n",
    "select count(*) as co \n",
    "from real_estate\n",
    "\"\"\"\n",
    "cur.execute(myq)\n",
    "cur.fetchall()\n"
   ]
  },
  {
   "cell_type": "code",
   "execution_count": null,
   "metadata": {
    "collapsed": false
   },
   "outputs": [],
   "source": [
    "# Verify View used in Q8 is here\n",
    "myq = \"\"\"\n",
    "select *\n",
    "from most_expensive\n",
    "\"\"\"\n",
    "cur.execute(myq)\n",
    "cur.fetchall()"
   ]
  },
  {
   "cell_type": "markdown",
   "metadata": {},
   "source": [
    "## Section 2 -- Queries"
   ]
  },
  {
   "cell_type": "code",
   "execution_count": null,
   "metadata": {
    "collapsed": true
   },
   "outputs": [],
   "source": [
    "# Q1\n",
    "q1 = \"\"\"\n",
    "\"\"\"\n",
    "cur.execute(q1)\n",
    "cur.fetchall()"
   ]
  },
  {
   "cell_type": "code",
   "execution_count": null,
   "metadata": {
    "collapsed": true
   },
   "outputs": [],
   "source": [
    "# Q2\n",
    "q2 = \"\"\"\n",
    "\"\"\"\n",
    "cur.execute(q2)\n",
    "cur.fetchall()"
   ]
  },
  {
   "cell_type": "code",
   "execution_count": null,
   "metadata": {
    "collapsed": true
   },
   "outputs": [],
   "source": [
    "# Q3\n",
    "q3 = \"\"\"\n",
    "\"\"\"\n",
    "cur.execute(q3)\n",
    "cur.fetchall()"
   ]
  },
  {
   "cell_type": "code",
   "execution_count": null,
   "metadata": {
    "collapsed": true
   },
   "outputs": [],
   "source": [
    "# Q4\n",
    "q4 = \"\"\"\n",
    "\"\"\"\n",
    "cur.execute(q4)\n",
    "cur.fetchall()"
   ]
  },
  {
   "cell_type": "code",
   "execution_count": null,
   "metadata": {
    "collapsed": true
   },
   "outputs": [],
   "source": [
    "# Q5\n",
    "q5 = \"\"\"\n",
    "\"\"\"\n",
    "cur.execute(q5)\n",
    "cur.fetchall()"
   ]
  },
  {
   "cell_type": "code",
   "execution_count": null,
   "metadata": {
    "collapsed": true
   },
   "outputs": [],
   "source": [
    "# Q6\n",
    "q6 = \"\"\"\n",
    "\"\"\"\n",
    "cur.execute(q6)\n",
    "cur.fetchall()"
   ]
  },
  {
   "cell_type": "code",
   "execution_count": null,
   "metadata": {
    "collapsed": true
   },
   "outputs": [],
   "source": [
    "# Q7\n",
    "q7 = \"\"\"\n",
    "\"\"\"\n",
    "cur.execute(q7)\n",
    "cur.fetchall()"
   ]
  },
  {
   "cell_type": "code",
   "execution_count": null,
   "metadata": {
    "collapsed": true
   },
   "outputs": [],
   "source": [
    "# Q8\n",
    "q8 = \"\"\"\n",
    "\"\"\"\n",
    "cur.execute(q8)\n",
    "cur.fetchall()"
   ]
  },
  {
   "cell_type": "code",
   "execution_count": null,
   "metadata": {
    "collapsed": true
   },
   "outputs": [],
   "source": [
    "# Q9\n",
    "q9 = \"\"\"\n",
    "\"\"\"\n",
    "cur.execute(q9)\n",
    "cur.fetchall()"
   ]
  },
  {
   "cell_type": "code",
   "execution_count": null,
   "metadata": {
    "collapsed": true
   },
   "outputs": [],
   "source": [
    "# Q10\n",
    "q10 = \"\"\"\n",
    "\"\"\"\n",
    "cur.execute(q10)\n",
    "cur.fetchall()"
   ]
  },
  {
   "cell_type": "markdown",
   "metadata": {},
   "source": [
    "## Section 3 -- Visualization"
   ]
  },
  {
   "cell_type": "code",
   "execution_count": null,
   "metadata": {
    "collapsed": true
   },
   "outputs": [],
   "source": [
    "# Q5 visualization\n",
    "cur.execute(q5)\n",
    "q5res = cur.fetchall()\n",
    "\n",
    "# create a plot using q5res here"
   ]
  },
  {
   "cell_type": "code",
   "execution_count": null,
   "metadata": {
    "collapsed": true
   },
   "outputs": [],
   "source": [
    "# Q7 visualization\n",
    "cur.execute(q7)\n",
    "q7res = cur.fetchall()\n",
    "\n",
    "# create a plot using q7res here"
   ]
  }
 ],
 "metadata": {
  "anaconda-cloud": {},
  "kernelspec": {
   "display_name": "Python [default]",
   "language": "python",
   "name": "python3"
  },
  "language_info": {
   "codemirror_mode": {
    "name": "ipython",
    "version": 3
   },
   "file_extension": ".py",
   "mimetype": "text/x-python",
   "name": "python",
   "nbconvert_exporter": "python",
   "pygments_lexer": "ipython3",
   "version": "3.5.2"
  }
 },
 "nbformat": 4,
 "nbformat_minor": 1
}
